{
 "cells": [
  {
   "cell_type": "markdown",
   "id": "16d438d5",
   "metadata": {},
   "source": [
    "# 3.1: Pre-processing and Transformation"
   ]
  },
  {
   "cell_type": "markdown",
   "id": "b818662b",
   "metadata": {},
   "source": [
    "**Runtime: ~10s**\n",
    "\n",
    "*In this part the datasets are imported, encoded, empty values are replaced with appropriate data, and the most relevant features are selected.* \\\n",
    "*Lines **longer than 80** characters are continued on a new line.*"
   ]
  },
  {
   "cell_type": "markdown",
   "id": "17388eb2",
   "metadata": {},
   "source": [
    "## Importing required libraries & datasets\n",
    "*Modules required for this task are impored below.*"
   ]
  },
  {
   "cell_type": "code",
   "execution_count": 1,
   "id": "5ba74436",
   "metadata": {},
   "outputs": [],
   "source": [
    "import numpy as np\n",
    "from sklearn.experimental import enable_iterative_imputer\n",
    "from sklearn.impute import SimpleImputer, KNNImputer, IterativeImputer\n",
    "from sklearn.preprocessing import OrdinalEncoder, OneHotEncoder, LabelEncoder,\\\n",
    "    MinMaxScaler, RobustScaler\n",
    "from sklearn.feature_selection import SelectKBest, r_regression, chi2, f_regression\n",
    "import matplotlib.pyplot as plt"
   ]
  },
  {
   "cell_type": "markdown",
   "id": "9f2b7706",
   "metadata": {},
   "source": [
    "A function to load the datasets is created and is used to load both datasets."
   ]
  },
  {
   "cell_type": "code",
   "execution_count": 2,
   "id": "c73456f1",
   "metadata": {},
   "outputs": [],
   "source": [
    "def load_dataset(name: str) -> np.ndarray:\n",
    "    \"\"\"\n",
    "    Function that will load CSV dataset without the first row i.e., header.\n",
    "    \n",
    "    Args:\n",
    "        name (str): The name of the dataset including extension e.g., data.csv\n",
    "        \n",
    "    Returns:\n",
    "        np.ndarray: Numpy array containing the dataset\n",
    "    \"\"\"\n",
    "    \n",
    "    return np.genfromtxt(name, delimiter=',', skip_header=True, dtype='str')"
   ]
  },
  {
   "cell_type": "code",
   "execution_count": 3,
   "id": "b3a8f295",
   "metadata": {},
   "outputs": [],
   "source": [
    "# Load datasets\n",
    "if __name__ == \"__main__\":\n",
    "    starsSet = load_dataset('star_assessment.csv')\n",
    "    gwpSet = load_dataset('gwp_assessment.csv')"
   ]
  },
  {
   "cell_type": "markdown",
   "id": "6fe8369d",
   "metadata": {},
   "source": [
    "## Encoding\n",
    "*This section handles the encoding of the datasets.* \\\n",
    "*The **OneHotEncoder** has been found efficient and therefore is the encoder used for both datasets.*"
   ]
  },
  {
   "cell_type": "code",
   "execution_count": 4,
   "id": "364e2f0e",
   "metadata": {},
   "outputs": [],
   "source": [
    "def encode_dataset(dataset: np.ndarray, encoding_type: str) -> list:\n",
    "    \"\"\"\n",
    "    Function that will find non-numerical values in a dataset and convert\n",
    "    them to numerical values using either ordinal, one-hot or label encoder.\n",
    "    The type of all samples in the dataset will be converted to float.\n",
    "    Missing and incorrectly encoded values will be replaced by Nan.\n",
    "    \n",
    "    Args:\n",
    "        dataset (np.ndarray): The dataset that will be encoded\n",
    "        encoding_type (str): The type of encoding to be performed\n",
    "        \n",
    "    Returns:\n",
    "        list: [\n",
    "            dataset: The encoded dataset\n",
    "            non_numerical_cols: List of integers\n",
    "        ]\n",
    "    \"\"\"\n",
    "    \n",
    "    non_numerical_cols = []\n",
    "    \n",
    "    # Convert string values to numerical values...\n",
    "    for i, val in enumerate(dataset[0,:]):\n",
    "        # ...Only if the current column is non-numerical\n",
    "        if not val.replace(\".\",\"\").isnumeric():  \n",
    "            non_numerical_cols.append(i)\n",
    "            \n",
    "            if encoding_type == 'ordinal-encoder':\n",
    "                oec = OrdinalEncoder(categories='auto', dtype=float)\n",
    "                oec.fit(dataset[:, [i]])\n",
    "                dataset[:,i] = oec.transform(dataset[:,[i]]).flatten()\n",
    "                \n",
    "            elif encoding_type == 'one-hot-encoder':\n",
    "                ohc = OneHotEncoder(categories='auto', dtype=float,\\\n",
    "                                    sparse_output=False)\n",
    "                ohc.fit(dataset[:, [i]])\n",
    "                encoded_array = ohc.transform(dataset[:,[i]])\n",
    "                dataset[:,i] = np.argmax(encoded_array, axis=1)\n",
    "                \n",
    "            elif encoding_type == 'label-encoder':\n",
    "                le = LabelEncoder()\n",
    "                le.fit(dataset[:, [i]].flatten())\n",
    "                encoded_array = le.transform(dataset[:,[i]].flatten())\n",
    "                dataset[:, [i]] = encoded_array.reshape((-1, 1))\n",
    "                \n",
    "    # Replace missing values with Nan\n",
    "    dataset = np.where(dataset=='', np.nan, dataset)\n",
    "    dataset = dataset.astype(float)\n",
    "    \n",
    "    # Replace non-numerical values that are encoded incorrectly with Nan\n",
    "    if i != len(dataset[0]) - 1:\n",
    "        for col in non_numerical_cols:\n",
    "            dataset[:,col] = np.where(dataset[:,col]==0.0,\\\n",
    "                np.nan, dataset[:,col])\n",
    "    \n",
    "    return [dataset, non_numerical_cols]"
   ]
  },
  {
   "cell_type": "code",
   "execution_count": 5,
   "id": "768dd366",
   "metadata": {},
   "outputs": [],
   "source": [
    "# Encode both datasets\n",
    "if __name__ == \"__main__\":\n",
    "    encoding_data_stars = encode_dataset(starsSet, 'one-hot-encoder')\n",
    "    encoded_dataset_stars = encoding_data_stars[0]\n",
    "    encoding_data_gwp = encode_dataset(gwpSet, 'one-hot-encoder')\n",
    "    encoded_dataset_gwp = encoding_data_gwp[0]"
   ]
  },
  {
   "cell_type": "markdown",
   "id": "37ee2dd5",
   "metadata": {},
   "source": [
    "## Imputation\n",
    "\n",
    "*In this section the datasets are imputed i.e., missing values are replaced.* \\\n",
    "*A combination of two different imputers is used for this purpose - **SimpleImputer** is used only for categorical data i.e., non-numerical data, and **IterativeImputer** for the remaining empty fields.*"
   ]
  },
  {
   "cell_type": "code",
   "execution_count": 6,
   "id": "5be57c01",
   "metadata": {},
   "outputs": [],
   "source": [
    "def simple_imputer(dataset: np.ndarray, non_numerical_cols: list, \\\n",
    "                   only_categories: bool=False) -> np.ndarray:\n",
    "    \"\"\"\n",
    "    Simple imputer function that will replace Nan data with computed value.\n",
    "    For categorical data e.g., days of the week, it will be replaced with\n",
    "    the median value, and for numerical data it will be replaced with\n",
    "    mean.\n",
    "    \n",
    "    Args:\n",
    "        dataset (np.ndarray): The dataset to be imputed\n",
    "        non_numerical_cols (list): List of non-numerical columns\n",
    "        only_categories (bool): If only categorical columns should be imputed\n",
    "        \n",
    "    Returns:\n",
    "        np.ndarray: The imputed dataset\n",
    "    \"\"\"\n",
    "    \n",
    "    for index, val in enumerate(dataset[0,:]):\n",
    "        if index in non_numerical_cols:\n",
    "            imputer = SimpleImputer(missing_values=np.nan, strategy='median')\n",
    "            dataset[:,[index]] = imputer.fit_transform(dataset[:,[index]])\n",
    "            \n",
    "        elif index not in non_numerical_cols and not only_categories:\n",
    "            imputer = SimpleImputer(missing_values=np.nan, strategy='mean')\n",
    "            dataset[:,[index]] = imputer.fit_transform(dataset[:,[index]])\n",
    "            \n",
    "    return dataset"
   ]
  },
  {
   "cell_type": "code",
   "execution_count": 7,
   "id": "9074a504",
   "metadata": {},
   "outputs": [],
   "source": [
    "def KNN_imputer(dataset: np.ndarray, n_neighbors: int=5) -> np.ndarray:\n",
    "    \"\"\"\n",
    "    KNN imputer that will replace Nan data with computed value.\n",
    "    It calculates each missing value from the mean of nearest \n",
    "    neighbors who's number could be configured in n_neighbors variable.\n",
    "    \n",
    "    Args:\n",
    "        dataset (np.ndarray): The dataset to be imputed\n",
    "        n_neighbors (int): The number of nearest neighbors to be\n",
    "            used in the algorithm\n",
    "    \n",
    "    Returns:\n",
    "        np.ndarray: The imputed dataset\n",
    "    \"\"\"\n",
    "    \n",
    "    imputer = KNNImputer(n_neighbors=n_neighbors)\n",
    "    dataset = imputer.fit_transform(dataset)\n",
    "    \n",
    "    return dataset"
   ]
  },
  {
   "cell_type": "code",
   "execution_count": 8,
   "id": "50269abd",
   "metadata": {},
   "outputs": [],
   "source": [
    "def iterative_imputer(dataset: np.ndarray, max_iter: int=10,\\\n",
    "                      n_nearest_features: int=None) -> np.ndarray:\n",
    "    \"\"\"\n",
    "    Iterative imputer that will replace Nan data with computed value.\n",
    "    It calculates each missing value from all the others and could be\n",
    "    customised by adding different imputation rounds and the number of\n",
    "    nearest features looked.\n",
    "    \n",
    "    Args:\n",
    "        dataset (np.ndarray): The dataset to be imputed\n",
    "        max_iter (int): The number of maximum iterations\n",
    "        n_nearest_features (None | int): The number of\n",
    "            nearest features to be used\n",
    "            \n",
    "    Returns:\n",
    "        np.ndarray: The imputed dataset\n",
    "    \"\"\"\n",
    "    \n",
    "    imputer = IterativeImputer(max_iter=max_iter,\\\n",
    "                               n_nearest_features=n_nearest_features)\n",
    "    dataset = imputer.fit_transform(dataset)\n",
    "    \n",
    "    return dataset"
   ]
  },
  {
   "cell_type": "code",
   "execution_count": 9,
   "id": "26e0685b",
   "metadata": {},
   "outputs": [],
   "source": [
    "# Imputate both datasets\n",
    "if __name__ == \"__main__\":\n",
    "    imputed_dataset_stars = iterative_imputer(simple_imputer(encoded_dataset_stars,\\\n",
    "                                    encoding_data_stars[1], only_categories=True))\n",
    "    imputed_dataset_gwp = iterative_imputer(simple_imputer(encoded_dataset_gwp,\\\n",
    "                                    encoding_data_gwp[1], only_categories=True))"
   ]
  },
  {
   "cell_type": "markdown",
   "id": "9c5e6ae8",
   "metadata": {},
   "source": [
    "## Rescalling data\n",
    "\n",
    "*In this section the datasets are rescaled.* \\\n",
    "*The scaler used for both datasets is the **MinMax** scaler.*"
   ]
  },
  {
   "cell_type": "code",
   "execution_count": 10,
   "id": "12726ebe",
   "metadata": {},
   "outputs": [],
   "source": [
    "def scale_data(dataset: np.ndarray, scalling_type: str) -> np.ndarray:\n",
    "    \"\"\"\n",
    "    Scaler function that will put all features in given range so it\n",
    "    is easier to train a model with it. It has two types of scalling;\n",
    "    min-max that will scale data in range 0,1 and robust that will\n",
    "    scale the data according to the quantile ranges.\n",
    "    \n",
    "    Args:\n",
    "        dataset (np.ndarray): The dataset to be scaled\n",
    "        scalling_type (str): The scalling type to be used\n",
    "    \n",
    "    Returns:\n",
    "        np.ndarray: The scaled dataset\n",
    "    \"\"\"\n",
    "    \n",
    "    if scalling_type == 'min-max':\n",
    "        scaler = MinMaxScaler()\n",
    "        \n",
    "    elif scalling_type == 'robust':\n",
    "        scaler = RobustScaler()\n",
    "        \n",
    "    scaled_dataset = scaler.fit_transform(dataset[:,:-1])\n",
    "    scaled_dataset = np.concatenate([scaled_dataset, dataset[:,-1][:, np.newaxis]], axis=1)\n",
    "    \n",
    "    return scaled_dataset"
   ]
  },
  {
   "cell_type": "code",
   "execution_count": 11,
   "id": "99e37dd0",
   "metadata": {},
   "outputs": [],
   "source": [
    "# Rescale both datasets\n",
    "if __name__ == \"__main__\":\n",
    "    scalled_dataset_stars = scale_data(imputed_dataset_stars, 'min-max')\n",
    "    scalled_dataset_gwp = scale_data(imputed_dataset_gwp, 'min-max')"
   ]
  },
  {
   "cell_type": "markdown",
   "id": "246ffe9d",
   "metadata": {},
   "source": [
    "## Selecting appropriate number of features\n",
    "*In this section the best features from each dataset are selected and the rest - discarded.* \n",
    "\n",
    "To select an appropriate number of features from each dataset I will use the following methods:\n",
    "\n",
    "**Categorical dataset**\n",
    "1. Use **chi2** statistic to return p value between each feature and class\n",
    "2. Values lower than 0.05 are considered statistically significant and selected as appropriate features\n",
    "\n",
    "**Regression dataset**\n",
    "1. Use r_regression to return the Pearson’s correlation between each features and target\n",
    "2. Absolute values higher than 0.1 are considered statistically significant and selected as appropriate\n",
    "\n",
    "**Filtering dataset** \\\n",
    "Once the most significant features are selected, **SelectKBest** is used to return only the part of the dataset that has the suitable features\n",
    "\n",
    "**Note:** ***Pearson's correlation** (r_regression) assumes a linear relationship between the variables and is better suited for continuous variables. Such linear relationship can be found in the **GWP dataset** and therefore using that model for feature selection is a good choice.* \\\n",
    "*On the other hand, categorical variables found in the **Stars dataset** may not have that linear relationship between them; and therefore **Chi2** (Chi-squared) is a good choice for that dataset, as it is better fitted to the nature of the data and can lead to better model performance.*"
   ]
  },
  {
   "cell_type": "code",
   "execution_count": 12,
   "id": "99ad9824",
   "metadata": {},
   "outputs": [],
   "source": [
    "def calc_pearson_correlation(dataset: np.ndarray) -> np.ndarray:\n",
    "    \"\"\"\n",
    "    Returns the Pearson's correlation of each feature.\n",
    "    \n",
    "    Args:\n",
    "        dataset (np.ndarray): The dataset to be computed\n",
    "    \n",
    "    Returns:\n",
    "        np.ndarray: The Pearson's correlation of each feature\n",
    "    \"\"\"\n",
    "    \n",
    "    return r_regression(dataset[:, :-1], dataset[:, -1])"
   ]
  },
  {
   "cell_type": "code",
   "execution_count": 13,
   "id": "ce29e51a",
   "metadata": {},
   "outputs": [],
   "source": [
    "def calc_p_value(dataset: np.ndarray) -> np.ndarray:\n",
    "    \"\"\"\n",
    "    Returns the P-value of each feature.\n",
    "    \n",
    "    Args:\n",
    "        dataset (np.ndarray): The dataset to be computed\n",
    "    \n",
    "    Returns:\n",
    "        np.ndarray: The P-value of each feature\n",
    "    \"\"\"\n",
    "    \n",
    "    return chi2(dataset[:, :-1], dataset[:, -1])"
   ]
  },
  {
   "cell_type": "markdown",
   "id": "3ff81d50",
   "metadata": {},
   "source": [
    "### Best features of the Stars dataset"
   ]
  },
  {
   "cell_type": "code",
   "execution_count": 14,
   "id": "3e668eca",
   "metadata": {},
   "outputs": [
    {
     "data": {
      "image/png": "[encoded data removed]",
      "text/plain": [
       "<Figure size 640x480 with 1 Axes>"
      ]
     },
     "metadata": {},
     "output_type": "display_data"
    }
   ],
   "source": [
    "# Display graph that shows P-values for each feature of the Stars dataset\n",
    "if __name__ == \"__main__\":\n",
    "    cf = calc_p_value(scalled_dataset_stars)[1]\n",
    "    feature_labels = [\"F{}\".format(i+1) for i in range(cf.size)]\n",
    "\n",
    "    fig, ax = plt.subplots()\n",
    "    ax.bar(np.arange(0,cf.size), cf)\n",
    "    ax.set_xticks(np.arange(0, cf.size))\n",
    "    ax.set_xticklabels(feature_labels)\n",
    "    ax.set_ylabel('p-value')\n",
    "    ax.set_title('P-value of features in the Stars dataset')\n",
    "    ax.axhline(y=0.05, color='r', linestyle='dashed')\n",
    "    ax.set_ylim(0, 0.055)\n",
    "    plt.show()"
   ]
  },
  {
   "cell_type": "markdown",
   "id": "7e919c3f",
   "metadata": {},
   "source": [
    "*Suitable features from **Stars dataset** are calculated based on if their **P-value** is lower than 0.05 and therefore good features are: **F1**, **F3**, **F6**, **F7**, **F9**, **F11**, **F12**, **F13**, **F14**, **F15**, **F16** and **F17** or namely **12** our of **17** features.* \\\n",
    "**F10** is not selected as it is ***Nan*** value."
   ]
  },
  {
   "cell_type": "markdown",
   "id": "dc1b425f",
   "metadata": {},
   "source": [
    "### Best features of the GWP dataset"
   ]
  },
  {
   "cell_type": "code",
   "execution_count": 15,
   "id": "a66def56",
   "metadata": {},
   "outputs": [
    {
     "data": {
      "image/png": "[encoded data removed]",
      "text/plain": [
       "<Figure size 640x480 with 1 Axes>"
      ]
     },
     "metadata": {},
     "output_type": "display_data"
    }
   ],
   "source": [
    "# Display graph that shows Pearson correlation for each feature of the Gwp dataset\n",
    "if __name__ == \"__main__\":\n",
    "    cf_b = calc_pearson_correlation(scalled_dataset_gwp)\n",
    "    feature_labels_b = [\"F{}\".format(i+1) for i in range(cf_b.size)]\n",
    "\n",
    "    fig_b, ax_b = plt.subplots()\n",
    "    ax_b.bar(np.arange(0,cf_b.size), cf_b)\n",
    "    ax_b.set_xticks(np.arange(0, cf_b.size))\n",
    "    ax_b.set_xticklabels(feature_labels_b)\n",
    "    ax_b.set_ylabel('correlation')\n",
    "    ax_b.set_title('Pearson correlation of features in the Gwp dataset')\n",
    "    ax_b.axhline(y=-0.1, color='r', linestyle='dashed')\n",
    "    ax_b.axhline(y=0.1, color='r', linestyle='dashed')\n",
    "    plt.show()"
   ]
  },
  {
   "cell_type": "markdown",
   "id": "5148fd96",
   "metadata": {},
   "source": [
    "*Suitable features from **GWP dataset** are **F5**, **F6**, **F7**, **F12**, and **F13** or namely **5** our of **14** features.*"
   ]
  },
  {
   "cell_type": "markdown",
   "id": "0b4a8fd8",
   "metadata": {},
   "source": [
    "### Select the K-best features\n",
    "After the number of well-performing features has been found for both datasets, now I use **SelectKBest** to reduce the size of each dataset to only its K-best features."
   ]
  },
  {
   "cell_type": "code",
   "execution_count": 16,
   "id": "7fa4e88b",
   "metadata": {},
   "outputs": [],
   "source": [
    "def select_best_features(dataset: np.ndarray, k: int, \\\n",
    "                         categorical_data: bool=False) -> np.ndarray:\n",
    "    \"\"\"\n",
    "    Select the K-best features from a dataset by using either f_regression\n",
    "    (for categorical data) or chi2 (for regression) to determine their\n",
    "    suitability. Returns a subset of the dataset with k columns.\n",
    "    \n",
    "    Args:\n",
    "        dataset (np.ndarray): The dataset to be computed\n",
    "        k (int): The number of best features to be selected\n",
    "        categorical_data (bool): If dataset is categorical or not\n",
    "        \n",
    "    Returns:\n",
    "        np.ndarray: The reduced dataset containing the best features only\n",
    "    \"\"\"\n",
    "    \n",
    "    if categorical_data:\n",
    "        skb = SelectKBest(chi2, k=k)\n",
    "        \n",
    "    else:\n",
    "        skb = SelectKBest(f_regression, k=k)\n",
    "        \n",
    "    best_features = skb.fit_transform(dataset[:, :-1], dataset[:, -1])\n",
    "    \n",
    "    return np.concatenate([best_features, dataset[:, -1][:, np.newaxis]], axis=1)"
   ]
  },
  {
   "cell_type": "code",
   "execution_count": 17,
   "id": "cd97c23e",
   "metadata": {},
   "outputs": [],
   "source": [
    "# Select best features for both datasets\n",
    "if __name__ == \"__main__\":\n",
    "    best_features_stars = select_best_features(scalled_dataset_stars, 12, categorical_data=True)\n",
    "    best_features_gwp = select_best_features(scalled_dataset_gwp, 5)"
   ]
  },
  {
   "cell_type": "markdown",
   "id": "1f003077",
   "metadata": {},
   "source": [
    "**With this the Pre-processing and Transformation of both datasets are imported, encoded, imputed, and refined to the most relevant features.**"
   ]
  }
 ],
 "metadata": {
  "kernelspec": {
   "display_name": "Python 3 (ipykernel)",
   "language": "python",
   "name": "python3"
  },
  "language_info": {
   "codemirror_mode": {
    "name": "ipython",
    "version": 3
   },
   "file_extension": ".py",
   "mimetype": "text/x-python",
   "name": "python",
   "nbconvert_exporter": "python",
   "pygments_lexer": "ipython3",
   "version": "3.12.0"
  }
 },
 "nbformat": 4,
 "nbformat_minor": 5
}
